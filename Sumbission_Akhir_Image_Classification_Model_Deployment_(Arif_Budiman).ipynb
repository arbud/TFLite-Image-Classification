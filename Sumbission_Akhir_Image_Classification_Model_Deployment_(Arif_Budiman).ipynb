{
 "cells": [
  {
   "cell_type": "markdown",
   "metadata": {
    "id": "f5NWcZujgMIV"
   },
   "source": [
    "# **Proyek Akhir : Image Classification Model Deployment - Bottle Synthetic**\n",
    "### Nama : Arif Budiman\n",
    "### E-mail : arifbudiman2506@gmail.com\n",
    "### ID Dicoding : arbud25"
   ]
  },
  {
   "cell_type": "markdown",
   "metadata": {
    "id": "1lMVpG_za9gR"
   },
   "source": [
    "# **Pendahuluan**\n",
    "\n",
    "Pertama-tama dalam proyek ini saya menggunakan dataset yang diperoleh dari [kaggle](https://www.kaggle.com/) yaitu data [Bottles Synthetic Images](https://www.kaggle.com/datasets/vencerlanz09/bottle-synthetic-images-dataset).\n",
    "\n",
    "Data dari link kaggel tersebut akan dicopy API nya untuk diambil datanya berikut API dari Bottles Synthetic Images : (kaggle datasets download -d vencerlanz09/bottle-synthetic-images-dataset).\n",
    "\n",
    "Berikut API Token yang diperoleh dari kaggle : [Kaggle API Token](https://drive.google.com/file/d/1OnxF8SKCfAsk5b2iBSU2v3NoIvWdwZjZ/view?pli=1).\n",
    "\n",
    "Tujuan proyek ini adalah untuk membuat model kalsifikasi dari dataset botol yang nanti akan diklasifikasikan menjadi berbagai macam kategori, lalu model yang telah dibuat akan di convert dengan menggunakan TFLite\n",
    "\n"
   ]
  },
  {
   "cell_type": "markdown",
   "metadata": {
    "id": "ifTHZhMvglpo"
   },
   "source": [
    "# **Import Library**"
   ]
  },
  {
   "cell_type": "code",
   "execution_count": 19,
   "metadata": {
    "colab": {
     "base_uri": "https://localhost:8080/"
    },
    "id": "Og6H_WMsYrl3",
    "outputId": "36a1185e-f736-4300-f127-1c7c973bd4de"
   },
   "outputs": [
    {
     "name": "stdout",
     "output_type": "stream",
     "text": [
      "Requirement already satisfied: split-folders in /usr/local/lib/python3.10/dist-packages (0.5.1)\n"
     ]
    }
   ],
   "source": [
    "!pip install split-folders\n",
    "import pandas as pd\n",
    "import numpy as np\n",
    "import os\n",
    "import tensorflow as tf\n",
    "import splitfolders\n",
    "import time\n",
    "import pathlib\n",
    "import matplotlib.pyplot as plt\n",
    "from tensorflow.keras.preprocessing.image import ImageDataGenerator\n",
    "from tensorflow.keras.layers import Input\n",
    "from tensorflow.keras.models import Sequential\n",
    "from tensorflow.keras.layers import Conv2D, MaxPooling2D, Flatten, Dense"
   ]
  },
  {
   "cell_type": "markdown",
   "metadata": {
    "id": "bGohQqYVgoqF"
   },
   "source": [
    "# **Import Data Dari Kaggle Dengan API Command**"
   ]
  },
  {
   "cell_type": "code",
   "execution_count": 2,
   "metadata": {
    "colab": {
     "base_uri": "https://localhost:8080/"
    },
    "id": "pjsbGsrxg2eb",
    "outputId": "9e2b05b0-3969-462d-a50c-c4ac995c830c"
   },
   "outputs": [
    {
     "name": "stdout",
     "output_type": "stream",
     "text": [
      "Requirement already satisfied: kaggle in /usr/local/lib/python3.10/dist-packages (1.5.16)\n",
      "Requirement already satisfied: six>=1.10 in /usr/local/lib/python3.10/dist-packages (from kaggle) (1.16.0)\n",
      "Requirement already satisfied: certifi in /usr/local/lib/python3.10/dist-packages (from kaggle) (2023.11.17)\n",
      "Requirement already satisfied: python-dateutil in /usr/local/lib/python3.10/dist-packages (from kaggle) (2.8.2)\n",
      "Requirement already satisfied: requests in /usr/local/lib/python3.10/dist-packages (from kaggle) (2.31.0)\n",
      "Requirement already satisfied: tqdm in /usr/local/lib/python3.10/dist-packages (from kaggle) (4.66.1)\n",
      "Requirement already satisfied: python-slugify in /usr/local/lib/python3.10/dist-packages (from kaggle) (8.0.1)\n",
      "Requirement already satisfied: urllib3 in /usr/local/lib/python3.10/dist-packages (from kaggle) (2.0.7)\n",
      "Requirement already satisfied: bleach in /usr/local/lib/python3.10/dist-packages (from kaggle) (6.1.0)\n",
      "Requirement already satisfied: webencodings in /usr/local/lib/python3.10/dist-packages (from bleach->kaggle) (0.5.1)\n",
      "Requirement already satisfied: text-unidecode>=1.3 in /usr/local/lib/python3.10/dist-packages (from python-slugify->kaggle) (1.3)\n",
      "Requirement already satisfied: charset-normalizer<4,>=2 in /usr/local/lib/python3.10/dist-packages (from requests->kaggle) (3.3.2)\n",
      "Requirement already satisfied: idna<4,>=2.5 in /usr/local/lib/python3.10/dist-packages (from requests->kaggle) (3.6)\n"
     ]
    }
   ],
   "source": [
    "# Install kaggle API\n",
    "!pip install kaggle"
   ]
  },
  {
   "cell_type": "code",
   "execution_count": 3,
   "metadata": {
    "colab": {
     "base_uri": "https://localhost:8080/",
     "height": 73
    },
    "id": "_XRHnvgkhAAr",
    "outputId": "657e9297-4e03-4b96-a76c-d1243818342f"
   },
   "outputs": [
    {
     "data": {
      "text/html": [
       "\n",
       "     <input type=\"file\" id=\"files-24643a08-5dba-4f66-98b8-b53a22384fd9\" name=\"files[]\" multiple disabled\n",
       "        style=\"border:none\" />\n",
       "     <output id=\"result-24643a08-5dba-4f66-98b8-b53a22384fd9\">\n",
       "      Upload widget is only available when the cell has been executed in the\n",
       "      current browser session. Please rerun this cell to enable.\n",
       "      </output>\n",
       "      <script>// Copyright 2017 Google LLC\n",
       "//\n",
       "// Licensed under the Apache License, Version 2.0 (the \"License\");\n",
       "// you may not use this file except in compliance with the License.\n",
       "// You may obtain a copy of the License at\n",
       "//\n",
       "//      http://www.apache.org/licenses/LICENSE-2.0\n",
       "//\n",
       "// Unless required by applicable law or agreed to in writing, software\n",
       "// distributed under the License is distributed on an \"AS IS\" BASIS,\n",
       "// WITHOUT WARRANTIES OR CONDITIONS OF ANY KIND, either express or implied.\n",
       "// See the License for the specific language governing permissions and\n",
       "// limitations under the License.\n",
       "\n",
       "/**\n",
       " * @fileoverview Helpers for google.colab Python module.\n",
       " */\n",
       "(function(scope) {\n",
       "function span(text, styleAttributes = {}) {\n",
       "  const element = document.createElement('span');\n",
       "  element.textContent = text;\n",
       "  for (const key of Object.keys(styleAttributes)) {\n",
       "    element.style[key] = styleAttributes[key];\n",
       "  }\n",
       "  return element;\n",
       "}\n",
       "\n",
       "// Max number of bytes which will be uploaded at a time.\n",
       "const MAX_PAYLOAD_SIZE = 100 * 1024;\n",
       "\n",
       "function _uploadFiles(inputId, outputId) {\n",
       "  const steps = uploadFilesStep(inputId, outputId);\n",
       "  const outputElement = document.getElementById(outputId);\n",
       "  // Cache steps on the outputElement to make it available for the next call\n",
       "  // to uploadFilesContinue from Python.\n",
       "  outputElement.steps = steps;\n",
       "\n",
       "  return _uploadFilesContinue(outputId);\n",
       "}\n",
       "\n",
       "// This is roughly an async generator (not supported in the browser yet),\n",
       "// where there are multiple asynchronous steps and the Python side is going\n",
       "// to poll for completion of each step.\n",
       "// This uses a Promise to block the python side on completion of each step,\n",
       "// then passes the result of the previous step as the input to the next step.\n",
       "function _uploadFilesContinue(outputId) {\n",
       "  const outputElement = document.getElementById(outputId);\n",
       "  const steps = outputElement.steps;\n",
       "\n",
       "  const next = steps.next(outputElement.lastPromiseValue);\n",
       "  return Promise.resolve(next.value.promise).then((value) => {\n",
       "    // Cache the last promise value to make it available to the next\n",
       "    // step of the generator.\n",
       "    outputElement.lastPromiseValue = value;\n",
       "    return next.value.response;\n",
       "  });\n",
       "}\n",
       "\n",
       "/**\n",
       " * Generator function which is called between each async step of the upload\n",
       " * process.\n",
       " * @param {string} inputId Element ID of the input file picker element.\n",
       " * @param {string} outputId Element ID of the output display.\n",
       " * @return {!Iterable<!Object>} Iterable of next steps.\n",
       " */\n",
       "function* uploadFilesStep(inputId, outputId) {\n",
       "  const inputElement = document.getElementById(inputId);\n",
       "  inputElement.disabled = false;\n",
       "\n",
       "  const outputElement = document.getElementById(outputId);\n",
       "  outputElement.innerHTML = '';\n",
       "\n",
       "  const pickedPromise = new Promise((resolve) => {\n",
       "    inputElement.addEventListener('change', (e) => {\n",
       "      resolve(e.target.files);\n",
       "    });\n",
       "  });\n",
       "\n",
       "  const cancel = document.createElement('button');\n",
       "  inputElement.parentElement.appendChild(cancel);\n",
       "  cancel.textContent = 'Cancel upload';\n",
       "  const cancelPromise = new Promise((resolve) => {\n",
       "    cancel.onclick = () => {\n",
       "      resolve(null);\n",
       "    };\n",
       "  });\n",
       "\n",
       "  // Wait for the user to pick the files.\n",
       "  const files = yield {\n",
       "    promise: Promise.race([pickedPromise, cancelPromise]),\n",
       "    response: {\n",
       "      action: 'starting',\n",
       "    }\n",
       "  };\n",
       "\n",
       "  cancel.remove();\n",
       "\n",
       "  // Disable the input element since further picks are not allowed.\n",
       "  inputElement.disabled = true;\n",
       "\n",
       "  if (!files) {\n",
       "    return {\n",
       "      response: {\n",
       "        action: 'complete',\n",
       "      }\n",
       "    };\n",
       "  }\n",
       "\n",
       "  for (const file of files) {\n",
       "    const li = document.createElement('li');\n",
       "    li.append(span(file.name, {fontWeight: 'bold'}));\n",
       "    li.append(span(\n",
       "        `(${file.type || 'n/a'}) - ${file.size} bytes, ` +\n",
       "        `last modified: ${\n",
       "            file.lastModifiedDate ? file.lastModifiedDate.toLocaleDateString() :\n",
       "                                    'n/a'} - `));\n",
       "    const percent = span('0% done');\n",
       "    li.appendChild(percent);\n",
       "\n",
       "    outputElement.appendChild(li);\n",
       "\n",
       "    const fileDataPromise = new Promise((resolve) => {\n",
       "      const reader = new FileReader();\n",
       "      reader.onload = (e) => {\n",
       "        resolve(e.target.result);\n",
       "      };\n",
       "      reader.readAsArrayBuffer(file);\n",
       "    });\n",
       "    // Wait for the data to be ready.\n",
       "    let fileData = yield {\n",
       "      promise: fileDataPromise,\n",
       "      response: {\n",
       "        action: 'continue',\n",
       "      }\n",
       "    };\n",
       "\n",
       "    // Use a chunked sending to avoid message size limits. See b/62115660.\n",
       "    let position = 0;\n",
       "    do {\n",
       "      const length = Math.min(fileData.byteLength - position, MAX_PAYLOAD_SIZE);\n",
       "      const chunk = new Uint8Array(fileData, position, length);\n",
       "      position += length;\n",
       "\n",
       "      const base64 = btoa(String.fromCharCode.apply(null, chunk));\n",
       "      yield {\n",
       "        response: {\n",
       "          action: 'append',\n",
       "          file: file.name,\n",
       "          data: base64,\n",
       "        },\n",
       "      };\n",
       "\n",
       "      let percentDone = fileData.byteLength === 0 ?\n",
       "          100 :\n",
       "          Math.round((position / fileData.byteLength) * 100);\n",
       "      percent.textContent = `${percentDone}% done`;\n",
       "\n",
       "    } while (position < fileData.byteLength);\n",
       "  }\n",
       "\n",
       "  // All done.\n",
       "  yield {\n",
       "    response: {\n",
       "      action: 'complete',\n",
       "    }\n",
       "  };\n",
       "}\n",
       "\n",
       "scope.google = scope.google || {};\n",
       "scope.google.colab = scope.google.colab || {};\n",
       "scope.google.colab._files = {\n",
       "  _uploadFiles,\n",
       "  _uploadFilesContinue,\n",
       "};\n",
       "})(self);\n",
       "</script> "
      ],
      "text/plain": [
       "<IPython.core.display.HTML object>"
      ]
     },
     "metadata": {},
     "output_type": "display_data"
    },
    {
     "name": "stdout",
     "output_type": "stream",
     "text": [
      "Saving kaggle.json to kaggle.json\n"
     ]
    }
   ],
   "source": [
    "# Upload API Kaggle yang telah diperoleh\n",
    "from google.colab import files\n",
    "\n",
    "uploaded = files.upload()"
   ]
  },
  {
   "cell_type": "code",
   "execution_count": 4,
   "metadata": {
    "colab": {
     "base_uri": "https://localhost:8080/"
    },
    "id": "HrV6QA-ohaCu",
    "outputId": "0c248e76-4dcf-4a29-e597-862b09b09f80"
   },
   "outputs": [
    {
     "name": "stdout",
     "output_type": "stream",
     "text": [
      "Downloading bottle-synthetic-images-dataset.zip to /content\n",
      " 99% 1.24G/1.26G [00:14<00:00, 158MB/s]\n",
      "100% 1.26G/1.26G [00:14<00:00, 90.6MB/s]\n"
     ]
    }
   ],
   "source": [
    "# Set Up Directory Untuk Kaggle pada Google dan Download Datasetnya\n",
    "import os\n",
    "\n",
    "# Set up Kaggle directory\n",
    "!mkdir ~/.kaggle\n",
    "\n",
    "# Move the Kaggle API key to the correct location\n",
    "!mv kaggle.json ~/.kaggle/\n",
    "\n",
    "# Set permissions for the API key\n",
    "!chmod 600 ~/.kaggle/kaggle.json\n",
    "\n",
    "# Download the dataset using Kaggle API\n",
    "!kaggle datasets download -d vencerlanz09/bottle-synthetic-images-dataset\n",
    "\n",
    "# Unzip the downloaded dataset\n",
    "!unzip -q bottle-synthetic-images-dataset.zip -d dataset"
   ]
  },
  {
   "cell_type": "code",
   "execution_count": 5,
   "metadata": {
    "colab": {
     "base_uri": "https://localhost:8080/"
    },
    "id": "5F6-zrtNh87J",
    "outputId": "d4fa9a02-9b84-4ef2-fe84-8a26a65c6dae"
   },
   "outputs": [
    {
     "data": {
      "text/plain": [
       "['Soda Bottle',\n",
       " 'Water Bottle',\n",
       " 'Wine Bottle',\n",
       " 'Plastic Bottles',\n",
       " 'Beer Bottles']"
      ]
     },
     "execution_count": 5,
     "metadata": {},
     "output_type": "execute_result"
    }
   ],
   "source": [
    "# Cek isi pada direktori\n",
    "os.listdir('/content/dataset/Bottle Images/Bottle Images')"
   ]
  },
  {
   "cell_type": "code",
   "execution_count": 6,
   "metadata": {
    "colab": {
     "base_uri": "https://localhost:8080/"
    },
    "id": "O-SerHqZivx7",
    "outputId": "7120136e-3746-4a20-c0e5-cef140345be7"
   },
   "outputs": [
    {
     "name": "stdout",
     "output_type": "stream",
     "text": [
      "Total jumlah data yang terdapat pada folder dan subfolders: 25000\n"
     ]
    }
   ],
   "source": [
    "# Cek jumlah datanya\n",
    "def count_files_in_folder(folder_path):\n",
    "    total_files = 0\n",
    "\n",
    "    for root, dirs, files in os.walk(folder_path):\n",
    "        total_files += len(files)\n",
    "\n",
    "    return total_files\n",
    "\n",
    "main_folder_path = '/content/dataset/Bottle Images/Bottle Images'\n",
    "\n",
    "total_files_count = count_files_in_folder(main_folder_path)\n",
    "\n",
    "print(f\"Total jumlah data yang terdapat pada folder dan subfolders: {total_files_count}\")"
   ]
  },
  {
   "cell_type": "markdown",
   "metadata": {
    "id": "bNO0XIfcpYMW"
   },
   "source": [
    "# **Train Test Split Data**\n",
    "\n",
    "Untuk pembagian datanya adalah validation set 20% dari total dataset, pembagian data menggunakan library split-folders"
   ]
  },
  {
   "cell_type": "code",
   "execution_count": 7,
   "metadata": {
    "colab": {
     "base_uri": "https://localhost:8080/"
    },
    "id": "At5UazT6jSVp",
    "outputId": "c0bc6ffa-3ad0-48aa-9b57-f222b9a65968"
   },
   "outputs": [
    {
     "name": "stdout",
     "output_type": "stream",
     "text": [
      "Direktori /content/bottle_synthetic berhasil dibuat.\n"
     ]
    }
   ],
   "source": [
    "# Buat Direktori Baru Untuk Ujicoba\n",
    "# Tentukan path lengkap untuk direktori baru\n",
    "new_directory = '/content/bottle_synthetic'\n",
    "\n",
    "# Periksa apakah direktori sudah ada atau belum\n",
    "if not os.path.exists(new_directory):\n",
    "    # Jika belum, buat direktori baru\n",
    "    os.makedirs(new_directory)\n",
    "    print(f\"Direktori {new_directory} berhasil dibuat.\")\n",
    "else:\n",
    "    print(f\"Direktori {new_directory} sudah ada.\")"
   ]
  },
  {
   "cell_type": "code",
   "execution_count": 8,
   "metadata": {
    "colab": {
     "base_uri": "https://localhost:8080/"
    },
    "id": "Ih1U9J2iqOSY",
    "outputId": "a0d9b50d-9949-406b-d318-5566c845a69b"
   },
   "outputs": [
    {
     "name": "stderr",
     "output_type": "stream",
     "text": [
      "Copying files: 25000 files [00:06, 3991.19 files/s]"
     ]
    },
    {
     "name": "stdout",
     "output_type": "stream",
     "text": [
      "Data berhasil dibagi antara data latih dan data validasi.\n"
     ]
    },
    {
     "name": "stderr",
     "output_type": "stream",
     "text": [
      "\n"
     ]
    }
   ],
   "source": [
    "# Gunakan split-folders untuk membagi dataset dan pindahkan ke folder yang baru dibuat dengan rasio train 80% dan val 20%\n",
    "# Path sumber dataset\n",
    "source_dir = '/content/dataset/Bottle Images/Bottle Images'\n",
    "\n",
    "# Path direktori tujuan untuk data pelatihan dan validasi\n",
    "output_dir = '/content/bottle_synthetic'\n",
    "\n",
    "# Gunakan splitfolders untuk membagi dataset\n",
    "splitfolders.ratio(source_dir, output=output_dir, seed=42, ratio=(0.8, 0.2))\n",
    "\n",
    "print(\"Data berhasil dibagi antara data latih dan data validasi.\")"
   ]
  },
  {
   "cell_type": "code",
   "execution_count": 9,
   "metadata": {
    "colab": {
     "base_uri": "https://localhost:8080/"
    },
    "id": "aaqi8BQZqu6i",
    "outputId": "c55c22ab-a356-4b8c-8982-af8cb4e8298e"
   },
   "outputs": [
    {
     "data": {
      "text/plain": [
       "['Soda Bottle',\n",
       " 'Water Bottle',\n",
       " 'Wine Bottle',\n",
       " 'Plastic Bottles',\n",
       " 'Beer Bottles']"
      ]
     },
     "execution_count": 9,
     "metadata": {},
     "output_type": "execute_result"
    }
   ],
   "source": [
    "# Cek data latih pada folder baru\n",
    "train_dir = '/content/bottle_synthetic/train'\n",
    "os.listdir(train_dir)"
   ]
  },
  {
   "cell_type": "code",
   "execution_count": 10,
   "metadata": {
    "colab": {
     "base_uri": "https://localhost:8080/"
    },
    "id": "mR3Ucu90rXdx",
    "outputId": "fbe4630b-6027-4324-b674-a16f31f9bfa9"
   },
   "outputs": [
    {
     "data": {
      "text/plain": [
       "['Soda Bottle',\n",
       " 'Water Bottle',\n",
       " 'Wine Bottle',\n",
       " 'Plastic Bottles',\n",
       " 'Beer Bottles']"
      ]
     },
     "execution_count": 10,
     "metadata": {},
     "output_type": "execute_result"
    }
   ],
   "source": [
    "# Cek data validasi pada folder baru\n",
    "val_dir = '/content/bottle_synthetic/val'\n",
    "os.listdir(val_dir)"
   ]
  },
  {
   "cell_type": "markdown",
   "metadata": {
    "id": "IavUmL8PuWpH"
   },
   "source": [
    "# **Preprocessing Data**"
   ]
  },
  {
   "cell_type": "code",
   "execution_count": 11,
   "metadata": {
    "colab": {
     "base_uri": "https://localhost:8080/"
    },
    "id": "FJgDBwPrrhLr",
    "outputId": "e2f6c347-3063-4676-d2f1-57b4dfc402ed"
   },
   "outputs": [
    {
     "name": "stdout",
     "output_type": "stream",
     "text": [
      "Found 20000 images belonging to 5 classes.\n"
     ]
    }
   ],
   "source": [
    "# Menggunakan augmentasi gambar menggunakan ImageDataGenerator\n",
    "train_datagen = ImageDataGenerator(\n",
    "    rescale=1.0/255,\n",
    "    rotation_range=30,\n",
    "    width_shift_range=0.2,\n",
    "    height_shift_range=0.2,\n",
    "    shear_range=0.2,\n",
    "    zoom_range=0.2,\n",
    "    vertical_flip=True,\n",
    "    fill_mode='nearest'\n",
    "    )\n",
    "\n",
    "train_generator = train_datagen.flow_from_directory(train_dir,\n",
    "                                                    batch_size=128,\n",
    "                                                    class_mode='categorical',\n",
    "                                                    target_size=(150, 150))"
   ]
  },
  {
   "cell_type": "code",
   "execution_count": 12,
   "metadata": {
    "colab": {
     "base_uri": "https://localhost:8080/"
    },
    "id": "1a1TJ_L-v-Ph",
    "outputId": "a25873aa-0cc9-4c0e-a8a3-a0d7e155fa1b"
   },
   "outputs": [
    {
     "name": "stdout",
     "output_type": "stream",
     "text": [
      "Found 5000 images belonging to 5 classes.\n"
     ]
    }
   ],
   "source": [
    "validation_datagen = ImageDataGenerator(\n",
    "    rescale=1.0/255\n",
    ")\n",
    "\n",
    "validation_generator = validation_datagen.flow_from_directory(val_dir,\n",
    "                                                              batch_size=32,\n",
    "                                                              class_mode='categorical',\n",
    "                                                              target_size=(150, 150))"
   ]
  },
  {
   "cell_type": "markdown",
   "metadata": {
    "id": "iTSfHY8qxnPC"
   },
   "source": [
    "# **Membuat Model**"
   ]
  },
  {
   "cell_type": "code",
   "execution_count": 13,
   "metadata": {
    "id": "aLJsx-3CwfG_"
   },
   "outputs": [],
   "source": [
    "# Buat arsitektur model dengan sequential\n",
    "model_bottle = tf.keras.models.Sequential([\n",
    "    tf.keras.layers.Conv2D(64,(3,3), activation='relu', input_shape=(150, 150, 3)),\n",
    "    tf.keras.layers.MaxPooling2D(2,2),\n",
    "    tf.keras.layers.Dropout(0.2),\n",
    "    tf.keras.layers.Conv2D(128,(3,3), activation='relu'),\n",
    "    tf.keras.layers.MaxPooling2D(2,2),\n",
    "    tf.keras.layers.Dropout(0.2),\n",
    "    tf.keras.layers.Conv2D(256,(3,3), activation='relu'),\n",
    "    tf.keras.layers.MaxPooling2D(2,2),\n",
    "    tf.keras.layers.Dropout(0.2),\n",
    "    tf.keras.layers.Flatten(),\n",
    "    tf.keras.layers.Dropout(0.2),\n",
    "    tf.keras.layers.Dense(256, activation='relu'),\n",
    "    tf.keras.layers.Dense(128, activation='relu'),\n",
    "    tf.keras.layers.Dense(5, activation='softmax')\n",
    "])"
   ]
  },
  {
   "cell_type": "code",
   "execution_count": 14,
   "metadata": {
    "colab": {
     "base_uri": "https://localhost:8080/"
    },
    "id": "_hNp4GmD1YoT",
    "outputId": "b08ebcf3-d834-4bb4-faf2-bf816e7f8b85"
   },
   "outputs": [
    {
     "name": "stdout",
     "output_type": "stream",
     "text": [
      "Model: \"sequential\"\n",
      "_________________________________________________________________\n",
      " Layer (type)                Output Shape              Param #   \n",
      "=================================================================\n",
      " conv2d (Conv2D)             (None, 148, 148, 64)      1792      \n",
      "                                                                 \n",
      " max_pooling2d (MaxPooling2  (None, 74, 74, 64)        0         \n",
      " D)                                                              \n",
      "                                                                 \n",
      " dropout (Dropout)           (None, 74, 74, 64)        0         \n",
      "                                                                 \n",
      " conv2d_1 (Conv2D)           (None, 72, 72, 128)       73856     \n",
      "                                                                 \n",
      " max_pooling2d_1 (MaxPoolin  (None, 36, 36, 128)       0         \n",
      " g2D)                                                            \n",
      "                                                                 \n",
      " dropout_1 (Dropout)         (None, 36, 36, 128)       0         \n",
      "                                                                 \n",
      " conv2d_2 (Conv2D)           (None, 34, 34, 256)       295168    \n",
      "                                                                 \n",
      " max_pooling2d_2 (MaxPoolin  (None, 17, 17, 256)       0         \n",
      " g2D)                                                            \n",
      "                                                                 \n",
      " dropout_2 (Dropout)         (None, 17, 17, 256)       0         \n",
      "                                                                 \n",
      " flatten (Flatten)           (None, 73984)             0         \n",
      "                                                                 \n",
      " dropout_3 (Dropout)         (None, 73984)             0         \n",
      "                                                                 \n",
      " dense (Dense)               (None, 256)               18940160  \n",
      "                                                                 \n",
      " dense_1 (Dense)             (None, 128)               32896     \n",
      "                                                                 \n",
      " dense_2 (Dense)             (None, 5)                 645       \n",
      "                                                                 \n",
      "=================================================================\n",
      "Total params: 19344517 (73.79 MB)\n",
      "Trainable params: 19344517 (73.79 MB)\n",
      "Non-trainable params: 0 (0.00 Byte)\n",
      "_________________________________________________________________\n"
     ]
    }
   ],
   "source": [
    "# Melihat summary model\n",
    "model_bottle.summary()"
   ]
  },
  {
   "cell_type": "code",
   "execution_count": 15,
   "metadata": {
    "colab": {
     "base_uri": "https://localhost:8080/"
    },
    "id": "wm0W2CjBEWSD",
    "outputId": "8be91686-f9bf-4228-b8db-7546eb47dba8"
   },
   "outputs": [
    {
     "name": "stderr",
     "output_type": "stream",
     "text": [
      "WARNING:absl:`lr` is deprecated in Keras optimizer, please use `learning_rate` or use the legacy optimizer, e.g.,tf.keras.optimizers.legacy.Adam.\n"
     ]
    }
   ],
   "source": [
    "# Compile model yang sudah dibuat dengan learning_rate 1e-4 dan epochs 50\n",
    "learning_rate = 1e-4\n",
    "nomor_epochs = 50\n",
    "\n",
    "optimizer = tf.optimizers.Adam(lr=learning_rate)\n",
    "model_bottle.compile(optimizer=optimizer,\n",
    "                     loss='categorical_crossentropy',\n",
    "                     metrics=['accuracy'])"
   ]
  },
  {
   "cell_type": "code",
   "execution_count": 16,
   "metadata": {
    "id": "BA_63PyjGplS"
   },
   "outputs": [],
   "source": [
    "# Buat fungsi callback untuk mengetahui apabila akurasi dan val_akurasi sudah mencapai nilai yang diinginkan (92)\n",
    "class MyCallback(tf.keras.callbacks.Callback):\n",
    "    def on_epoch_end(self, epoch, logs={}):\n",
    "        if logs.get('accuracy') > 0.92 and logs.get('val_accuracy') > 0.92:\n",
    "            print(\"\\nAkurasi dan val_accuracy telah mencapai >92%!\")\n",
    "            self.model.stop_training = True\n",
    "\n",
    "callbacks = MyCallback()"
   ]
  },
  {
   "cell_type": "code",
   "execution_count": 17,
   "metadata": {
    "colab": {
     "base_uri": "https://localhost:8080/"
    },
    "id": "XLl7nkTDHlTv",
    "outputId": "fc4c3000-4d76-4d2f-8da7-cecea6a7c9c6"
   },
   "outputs": [
    {
     "name": "stdout",
     "output_type": "stream",
     "text": [
      "Epoch 1/50\n",
      "50/50 - 76s - loss: 1.6440 - accuracy: 0.2770 - val_loss: 1.4120 - val_accuracy: 0.3584 - 76s/epoch - 2s/step\n",
      "Epoch 2/50\n",
      "50/50 - 64s - loss: 1.4022 - accuracy: 0.3655 - val_loss: 1.2970 - val_accuracy: 0.4200 - 64s/epoch - 1s/step\n",
      "Epoch 3/50\n",
      "50/50 - 72s - loss: 1.2951 - accuracy: 0.4221 - val_loss: 1.1952 - val_accuracy: 0.4772 - 72s/epoch - 1s/step\n",
      "Epoch 4/50\n",
      "50/50 - 63s - loss: 1.1718 - accuracy: 0.4998 - val_loss: 1.0035 - val_accuracy: 0.5690 - 63s/epoch - 1s/step\n",
      "Epoch 5/50\n",
      "50/50 - 64s - loss: 0.9635 - accuracy: 0.6091 - val_loss: 0.9692 - val_accuracy: 0.6136 - 64s/epoch - 1s/step\n",
      "Epoch 6/50\n",
      "50/50 - 72s - loss: 0.8181 - accuracy: 0.6740 - val_loss: 0.7707 - val_accuracy: 0.7196 - 72s/epoch - 1s/step\n",
      "Epoch 7/50\n",
      "50/50 - 64s - loss: 0.7130 - accuracy: 0.7287 - val_loss: 0.6058 - val_accuracy: 0.7790 - 64s/epoch - 1s/step\n",
      "Epoch 8/50\n",
      "50/50 - 65s - loss: 0.6335 - accuracy: 0.7614 - val_loss: 0.9142 - val_accuracy: 0.6954 - 65s/epoch - 1s/step\n",
      "Epoch 9/50\n",
      "50/50 - 63s - loss: 0.5755 - accuracy: 0.7791 - val_loss: 0.4346 - val_accuracy: 0.8496 - 63s/epoch - 1s/step\n",
      "Epoch 10/50\n",
      "50/50 - 65s - loss: 0.5010 - accuracy: 0.8062 - val_loss: 0.7150 - val_accuracy: 0.7506 - 65s/epoch - 1s/step\n",
      "Epoch 11/50\n",
      "50/50 - 64s - loss: 0.4462 - accuracy: 0.8389 - val_loss: 0.4366 - val_accuracy: 0.8416 - 64s/epoch - 1s/step\n",
      "Epoch 12/50\n",
      "50/50 - 64s - loss: 0.3919 - accuracy: 0.8544 - val_loss: 0.7187 - val_accuracy: 0.7442 - 64s/epoch - 1s/step\n",
      "Epoch 13/50\n",
      "50/50 - 64s - loss: 0.3615 - accuracy: 0.8742 - val_loss: 0.6179 - val_accuracy: 0.8052 - 64s/epoch - 1s/step\n",
      "Epoch 14/50\n",
      "50/50 - 73s - loss: 0.3102 - accuracy: 0.8900 - val_loss: 0.2971 - val_accuracy: 0.8970 - 73s/epoch - 1s/step\n",
      "Epoch 15/50\n",
      "50/50 - 64s - loss: 0.2961 - accuracy: 0.8936 - val_loss: 0.4046 - val_accuracy: 0.8514 - 64s/epoch - 1s/step\n",
      "Epoch 16/50\n",
      "50/50 - 62s - loss: 0.2957 - accuracy: 0.8921 - val_loss: 0.5012 - val_accuracy: 0.8338 - 62s/epoch - 1s/step\n",
      "Epoch 17/50\n",
      "50/50 - 64s - loss: 0.2753 - accuracy: 0.9023 - val_loss: 0.3817 - val_accuracy: 0.8682 - 64s/epoch - 1s/step\n",
      "Epoch 18/50\n",
      "50/50 - 63s - loss: 0.2302 - accuracy: 0.9175 - val_loss: 0.2934 - val_accuracy: 0.9076 - 63s/epoch - 1s/step\n",
      "Epoch 19/50\n",
      "50/50 - 64s - loss: 0.2385 - accuracy: 0.9156 - val_loss: 0.5775 - val_accuracy: 0.8210 - 64s/epoch - 1s/step\n",
      "Epoch 20/50\n",
      "50/50 - 64s - loss: 0.2354 - accuracy: 0.9175 - val_loss: 0.3341 - val_accuracy: 0.8804 - 64s/epoch - 1s/step\n",
      "Epoch 21/50\n",
      "50/50 - 63s - loss: 0.2258 - accuracy: 0.9216 - val_loss: 0.8744 - val_accuracy: 0.7664 - 63s/epoch - 1s/step\n",
      "Epoch 22/50\n",
      "50/50 - 64s - loss: 0.2297 - accuracy: 0.9236 - val_loss: 0.2487 - val_accuracy: 0.9116 - 64s/epoch - 1s/step\n",
      "Epoch 23/50\n",
      "50/50 - 63s - loss: 0.1956 - accuracy: 0.9312 - val_loss: 0.2983 - val_accuracy: 0.9066 - 63s/epoch - 1s/step\n",
      "Epoch 24/50\n",
      "50/50 - 65s - loss: 0.1971 - accuracy: 0.9296 - val_loss: 0.3099 - val_accuracy: 0.9036 - 65s/epoch - 1s/step\n",
      "Epoch 25/50\n",
      "50/50 - 64s - loss: 0.2012 - accuracy: 0.9298 - val_loss: 0.6741 - val_accuracy: 0.8248 - 64s/epoch - 1s/step\n",
      "Epoch 26/50\n",
      "\n",
      "Akurasi dan val_accuracy telah mencapai >92%!\n",
      "50/50 - 64s - loss: 0.1749 - accuracy: 0.9402 - val_loss: 0.1968 - val_accuracy: 0.9334 - 64s/epoch - 1s/step\n",
      "Lama Waktu Training yang Dibutuhkan: 31minute\n"
     ]
    }
   ],
   "source": [
    "start = time.time()\n",
    "history_bottle = model_bottle.fit(train_generator,\n",
    "                                  epochs=nomor_epochs,\n",
    "                                  steps_per_epoch=50,\n",
    "                                  validation_data=validation_generator,\n",
    "                                  batch_size=128,\n",
    "                                  verbose=2,\n",
    "                                  callbacks=[callbacks])\n",
    "stop = time.time()\n",
    "print(f\"Lama Waktu Training yang Dibutuhkan: {round((stop - start)/60)}minute\")"
   ]
  },
  {
   "cell_type": "code",
   "execution_count": 20,
   "metadata": {
    "colab": {
     "base_uri": "https://localhost:8080/",
     "height": 718
    },
    "id": "JtU-0XyXIfga",
    "outputId": "9e842e2a-f04b-44a8-cc3a-3107f46cb942"
   },
   "outputs": [
    {
     "data": {
      "image/png": "[encoded data removed]",
      "text/plain": [
       "<Figure size 800x800 with 2 Axes>"
      ]
     },
     "metadata": {},
     "output_type": "display_data"
    }
   ],
   "source": [
    "# Buat grafik untuk mengetahui akurasi dan loss\n",
    "acc = history_bottle.history['accuracy']\n",
    "val_acc = history_bottle.history['val_accuracy']\n",
    "\n",
    "loss = history_bottle.history['loss']\n",
    "val_loss = history_bottle.history['val_loss']\n",
    "\n",
    "plt.figure(figsize=(8, 8))\n",
    "plt.subplot(2, 1, 1)\n",
    "plt.plot(acc, label='Training Accuracy')\n",
    "plt.plot(val_acc, label='Validation Accuracy')\n",
    "plt.legend(loc='lower right')\n",
    "plt.ylabel('Accuracy')\n",
    "plt.ylim([min(plt.ylim()),1])\n",
    "plt.title('Training and Validation Accuracy')\n",
    "\n",
    "plt.subplot(2, 1, 2)\n",
    "plt.plot(loss, label='Training Loss')\n",
    "plt.plot(val_loss, label='Validation Loss')\n",
    "plt.legend(loc='upper right')\n",
    "plt.ylabel('Categorical CrossEntropy')\n",
    "plt.ylim([0,1.0])\n",
    "plt.title('Training and Validation Loss')\n",
    "plt.xlabel('epoch')\n",
    "plt.show()"
   ]
  },
  {
   "cell_type": "markdown",
   "metadata": {
    "id": "b1sri5BteTi6"
   },
   "source": [
    "# **Convert Model**\n",
    "\n",
    "Convert model yang telah dibuat dan diuji dengan Format TFLite"
   ]
  },
  {
   "cell_type": "code",
   "execution_count": 21,
   "metadata": {
    "id": "tl5KxRY9eSch"
   },
   "outputs": [],
   "source": [
    "export_dir = 'saved_model/'\n",
    "tf.saved_model.save(model_bottle, export_dir)"
   ]
  },
  {
   "cell_type": "code",
   "execution_count": 22,
   "metadata": {
    "id": "Ul6eLsQKdvMv"
   },
   "outputs": [],
   "source": [
    "converter = tf.lite.TFLiteConverter.from_saved_model(export_dir)\n",
    "tflite_model = converter.convert()"
   ]
  },
  {
   "cell_type": "code",
   "execution_count": 23,
   "metadata": {
    "colab": {
     "base_uri": "https://localhost:8080/"
    },
    "id": "VI0dehYqfORU",
    "outputId": "b97c5ed1-e3c2-4129-be44-210d21578fdf"
   },
   "outputs": [
    {
     "data": {
      "text/plain": [
       "77382552"
      ]
     },
     "execution_count": 23,
     "metadata": {},
     "output_type": "execute_result"
    }
   ],
   "source": [
    "tflite_model_file = pathlib.Path('bottle.tflite')\n",
    "tflite_model_file.write_bytes(tflite_model)"
   ]
  }
 ],
 "metadata": {
  "accelerator": "GPU",
  "colab": {
   "gpuType": "T4",
   "provenance": []
  },
  "kernelspec": {
   "display_name": "Python 3 (ipykernel)",
   "language": "python",
   "name": "python3"
  },
  "language_info": {
   "codemirror_mode": {
    "name": "ipython",
    "version": 3
   },
   "file_extension": ".py",
   "mimetype": "text/x-python",
   "name": "python",
   "nbconvert_exporter": "python",
   "pygments_lexer": "ipython3",
   "version": "3.9.13"
  }
 },
 "nbformat": 4,
 "nbformat_minor": 1
}
